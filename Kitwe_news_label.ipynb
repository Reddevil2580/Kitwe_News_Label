{
  "nbformat": 4,
  "nbformat_minor": 0,
  "metadata": {
    "colab": {
      "provenance": []
    },
    "kernelspec": {
      "name": "python3",
      "display_name": "Python 3"
    },
    "language_info": {
      "name": "python"
    }
  },
  "cells": [
    {
      "cell_type": "code",
      "execution_count": 25,
      "metadata": {
        "id": "2ZTjcGgeL0i_"
      },
      "outputs": [],
      "source": [
        "import pandas as pd\n",
        "import torch\n",
        "from transformers import pipeline"
      ]
    },
    {
      "cell_type": "markdown",
      "source": [
        "**Labelling the news based on the pre-trained model distilbert**"
      ],
      "metadata": {
        "id": "OygaWc23K8JU"
      }
    },
    {
      "cell_type": "code",
      "source": [
        "df = pd.read_csv('updated_news_with_predictions.csv')"
      ],
      "metadata": {
        "id": "Vb6oHwbQMFd_"
      },
      "execution_count": 20,
      "outputs": []
    },
    {
      "cell_type": "code",
      "source": [
        "# Handle missing values in the Headline or Description columns\n",
        "df.dropna(subset=['Headline', 'Description'], inplace=True)\n",
        "# Combine 'Headline' and 'Description' into a new column 'combined_text'\n",
        "df['combined_text'] = df['Headline'].astype(str) + \" \" + df['Description'].astype(str)"
      ],
      "metadata": {
        "id": "KZ5n4Pp_MNaJ"
      },
      "execution_count": 21,
      "outputs": []
    },
    {
      "cell_type": "code",
      "source": [
        "# Check if GPU is available; if not, use CPU\n",
        "device = 0 if torch.cuda.is_available() else -1"
      ],
      "metadata": {
        "id": "N1yJYZ5YMUAJ"
      },
      "execution_count": 23,
      "outputs": []
    },
    {
      "cell_type": "code",
      "source": [
        "classifier = pipeline(\n",
        "    'text-classification',\n",
        "    model=\"distilbert-base-uncased-finetuned-sst-2-english\",\n",
        "    device=device,          # Automatically use GPU if available\n",
        "    batch_size=16,          # Process 16 rows at a time for faster execution\n",
        "    truncation=True         # Ensure text is truncated to avoid token limit errors\n",
        ")\n"
      ],
      "metadata": {
        "id": "YEegQ5RKMWXe"
      },
      "execution_count": 26,
      "outputs": []
    },
    {
      "cell_type": "code",
      "source": [
        "classifier = pipeline(\n",
        "    'text-classification',\n",
        "    model='distilbert-base-uncased-finetuned-sst-2-english',\n",
        "    device=0 if torch.cuda.is_available() else -1,  # Use GPU if available\n",
        "    truncation=True,  # Enable truncation to handle long sequences\n",
        ")"
      ],
      "metadata": {
        "id": "9GUSE7r4MaxT"
      },
      "execution_count": 29,
      "outputs": []
    },
    {
      "cell_type": "code",
      "source": [
        "# Classify in batches\n",
        "results = classifier(list(df['combined_text']), batch_size=16)"
      ],
      "metadata": {
        "id": "sHybJXRuMdMu"
      },
      "execution_count": 30,
      "outputs": []
    },
    {
      "cell_type": "code",
      "source": [
        "# Add the predictions to the DataFrame\n",
        "df['Predicted_Truthfulness'] = [result['label'] for result in results]"
      ],
      "metadata": {
        "id": "-ekDdbhdxj4U"
      },
      "execution_count": 19,
      "outputs": []
    },
    {
      "cell_type": "code",
      "source": [
        "# Save the updated DataFrame with predictions to a new CSV file\n",
        "df.to_csv('updated_news_with_predictions.csv', index=False)"
      ],
      "metadata": {
        "id": "h7CTajsmxmM8"
      },
      "execution_count": 31,
      "outputs": []
    }
  ]
}